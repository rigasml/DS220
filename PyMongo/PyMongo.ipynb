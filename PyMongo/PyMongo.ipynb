{
  "cells": [
    {
      "metadata": {},
      "cell_type": "markdown",
      "source": "# PyMongo!"
    },
    {
      "metadata": {},
      "cell_type": "markdown",
      "source": "## Connect to the Cluster!"
    },
    {
      "metadata": {},
      "cell_type": "markdown",
      "source": "In this activity, you will use Python to interact with a Mongo Database stored on a remote (Cloud) server! This is very realistic in terms of how you might interact with a NoSQL database like MongoDB.  It will be large and not stored on a single machine and certainly not on your local machine. \nWe have a loaded a collection of documents about restaurants in New York City into a MongoDB cluster. First you will import the necessary modules, PyMongo and Pandas. Next you establish a connection to the cluster (either Morgan's or Dr. Rigas') using a connection string. Lastly you specify the database and collection within the cluster that we want to work with."
    },
    {
      "metadata": {
        "trusted": true
      },
      "cell_type": "code",
      "source": "import pymongo\nfrom pymongo import MongoClient\nimport pandas as pd\nclient = MongoClient('')  #Use one of the instructors' connection strings for the Restaurant database\ndb = client.test\nrestaurants = db.restaurants",
      "execution_count": null,
      "outputs": []
    },
    {
      "metadata": {},
      "cell_type": "markdown",
      "source": "## Let's Query!"
    },
    {
      "metadata": {
        "collapsed": true
      },
      "cell_type": "markdown",
      "source": "Querying is basically the same as you would in your command prompt. The only difference is that PyMongo doesn't support .pretty(). For a simple example: to find one of the Bronx restaurants run the cell below and see the output."
    },
    {
      "metadata": {
        "trusted": true
      },
      "cell_type": "code",
      "source": "print(restaurants.find_one({\"borough\":\"Bronx\"}))",
      "execution_count": null,
      "outputs": []
    },
    {
      "metadata": {},
      "cell_type": "markdown",
      "source": "Now if we wanted to find ALL of the Bronx restaurants, we simply cannot print the query. It will create a cursor object. To see all of the query results, we need to use a for loop. See below. This example is limited to output the first 5 documents to save space, but if you wanted to see all of the restaurants, just remove the .limit(5)."
    },
    {
      "metadata": {
        "trusted": true
      },
      "cell_type": "code",
      "source": "for restaurant in restaurants.find({\"borough\":\"Bronx\"}).limit(5):\n    print(restaurant)",
      "execution_count": null,
      "outputs": []
    },
    {
      "metadata": {},
      "cell_type": "markdown",
      "source": "This is not the prettiest to look at. So, we can make use of pandas dataframes! First we establish an empty list. We loop through the restaurants in the query and append them to the list. Finally, we make a dataframe out of the list of json objects and display our result. Run the cell below to see a dataframe of 15 of the Indian cuisine restaurants in Brooklyn in our database. YOU MAY NEED TO ADD SOME CODE TO DISPLAY THE DATAFRAME. "
    },
    {
      "metadata": {
        "scrolled": false,
        "trusted": true
      },
      "cell_type": "code",
      "source": "brooklynIndian = []\nfor rest in restaurants.find({\"$and\": [{\"cuisine\":\"Indian\"}, {\"borough\": \"Brooklyn\"}]}).limit(15):\n    brooklynIndian.append(rest)\ntestDF = pd.DataFrame(brooklynIndian)",
      "execution_count": null,
      "outputs": []
    },
    {
      "metadata": {},
      "cell_type": "markdown",
      "source": "## Your turn! "
    },
    {
      "metadata": {},
      "cell_type": "markdown",
      "source": "Use the example above to complete the following exercises. For documentation on Mongo querying visit https://docs.mongodb.com/manual/tutorial/query-documents/ and https://docs.mongodb.com/manual/tutorial/query-embedded-documents/"
    },
    {
      "metadata": {},
      "cell_type": "markdown",
      "source": "#1. In the cell below, fill in the missing details to display the fields restaurant_id, name, borough and cuisine, but exclude the ID field for the first 10 documents in the database."
    },
    {
      "metadata": {
        "trusted": true
      },
      "cell_type": "code",
      "source": "for rest in restaurants.find({},{\"restaurant_id\" : 1,\"name\":1,\"...,\"_id\":0}).limit(...):\n   print(rest)",
      "execution_count": null,
      "outputs": []
    },
    {
      "metadata": {},
      "cell_type": "markdown",
      "source": "#2. Find the first 10 restaurants who have received a _score less than_ 50."
    },
    {
      "metadata": {
        "trusted": true
      },
      "cell_type": "code",
      "source": "for rest in restaurants.find({}},{\"restaurant_id\" : 1,\"name\":1,\"...,\"_id\":0}).limit(...):\n\n   print(rest)",
      "execution_count": null,
      "outputs": []
    },
    {
      "metadata": {},
      "cell_type": "markdown",
      "source": "#3. Return _only_ the name, cuisine, and borough for 20 documents that are _NOT IN_ the Bronx, Queens, or Staten Island (Hint: There is a Mongo method called $nin for \"not in\".)"
    },
    {
      "metadata": {
        "trusted": true
      },
      "cell_type": "code",
      "source": "for rest in restaurants.find({}})\n   print(rest)",
      "execution_count": null,
      "outputs": []
    },
    {
      "metadata": {},
      "cell_type": "markdown",
      "source": "#4. Due to a recent inventory mishap, a client needs the names and addresses for the Mexican restaurants north of the Central Park Zoo (lattitude: 40.7678). Do not return the id. This client will only visit the first 20 restaurants in ascending order by name, so only return those. __Hint__: will need to make use of pymongo.ASCENDING. You can also use a a property of the address atribute, address.coord. You are lucky in this case that the longitudes are all negative numbers so you can find an easy way to search for a lattitude number greater than the lattitude of interest."
    },
    {
      "metadata": {
        "trusted": true
      },
      "cell_type": "code",
      "source": "    print(rest)",
      "execution_count": null,
      "outputs": []
    },
    {
      "metadata": {},
      "cell_type": "markdown",
      "source": "#5. Did you know that MongoDB also supports regular expressions? We have a client that can't remember the name of a restaurant they rated. All this client knows is that it was an American cuisine restaurant in Manhattan whose name started with \"Mad\". We have a few of these in our database. We will create a dataframe of these restaurants to send to our client. Fill in the missing detail below to run this and print the result (Hint: In Mongo, you can indicate that you want the string to START with a particular pattern by using the '^' as an anchor at the beginning of the string). "
    },
    {
      "metadata": {
        "trusted": true
      },
      "cell_type": "code",
      "source": "mysteryRestaurant = []\nfor rest in restaurants.find({\"name\": {\"$regex\" : \"\"}, \"cuisine\": , \"borough\": \"Manhattan\"}):\n    mysteryRestaurant.append(rest)\nresult = pd.dataframe(...)\nresult",
      "execution_count": null,
      "outputs": []
    },
    {
      "metadata": {},
      "cell_type": "markdown",
      "source": "Keep in mind: The flexibility of Mongo's schema can cause these dataframes to get very messy. Data cleaning will be a crucial step before analysis when using Python on top of MongoDB!"
    }
  ],
  "metadata": {
    "kernelspec": {
      "name": "python3",
      "display_name": "Python 3",
      "language": "python"
    },
    "language_info": {
      "mimetype": "text/x-python",
      "nbconvert_exporter": "python",
      "name": "python",
      "pygments_lexer": "ipython3",
      "version": "3.5.4",
      "file_extension": ".py",
      "codemirror_mode": {
        "version": 3,
        "name": "ipython"
      }
    }
  },
  "nbformat": 4,
  "nbformat_minor": 2
}