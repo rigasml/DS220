{
 "cells": [
  {
   "cell_type": "markdown",
   "metadata": {},
   "source": [
    "# Beautiful Soup!"
   ]
  },
  {
   "cell_type": "markdown",
   "metadata": {},
   "source": [
    "- Should pip install bs4 and requests\n",
    "- How to use BeautifulSoup package: https://www.youtube.com/watch?v=zpJjMEHGMRg\n",
    "- How to use requests package: https://www.youtube.com/watch?v=v5TIu67oTWg (fast forward to 2:51)"
   ]
  },
  {
   "cell_type": "markdown",
   "metadata": {},
   "source": [
    "# The goal:\n",
    "parse, prettify, and extract HTML data from https://www.python.org/~guido/ (all about the author of Python)"
   ]
  },
  {
   "cell_type": "code",
   "execution_count": null,
   "metadata": {
    "collapsed": true
   },
   "outputs": [],
   "source": [
    "# Import packages: requests and BeautifulSoup\n",
    "import _____\n",
    "from ____ import ______\n",
    "\n",
    "# Specify url: url\n",
    "url = ________\n",
    "\n",
    "# Package the request, send the request and catch the response: r\n",
    "r = ________\n",
    "\n",
    "# Extract the response as html: html_doc\n",
    "html_doc = ________\n",
    "\n",
    "# Create a BeautifulSoup object from the HTML: soup\n",
    "soup = _________\n",
    "\n",
    "# Prettify the BeautifulSoup object: pretty_soup\n",
    "pretty_soup = ____.____()\n",
    "\n",
    "# Print the prettified response\n",
    "print(pretty_soup)"
   ]
  },
  {
   "cell_type": "code",
   "execution_count": null,
   "metadata": {
    "collapsed": true
   },
   "outputs": [],
   "source": [
    "# Get the title of Guido's webpage: guido_title\n",
    "guido_title = _______\n",
    "\n",
    "# Print the title of Guido's webpage to the shell\n",
    "print(guido_title)\n"
   ]
  },
  {
   "cell_type": "code",
   "execution_count": null,
   "metadata": {
    "collapsed": true
   },
   "outputs": [],
   "source": [
    "# Get Guido's text: guido_text\n",
    "guido_text = ________\n",
    "\n",
    "# Print Guido's text to the shell\n",
    "print(guido_text)\n"
   ]
  },
  {
   "cell_type": "code",
   "execution_count": null,
   "metadata": {
    "collapsed": true
   },
   "outputs": [],
   "source": [
    "# Find all 'a' tags (which define hyperlinks): a_tags\n",
    "a_tags = soup.______(___)\n",
    "print(a_tags)\n",
    "# Print the URLs to the shell\n",
    "for link in a_tags:\n",
    "    print(_______)"
   ]
  }
 ],
 "metadata": {
  "kernelspec": {
   "display_name": "Python 3",
   "language": "python",
   "name": "python3"
  },
  "language_info": {
   "codemirror_mode": {
    "name": "ipython",
    "version": 3
   },
   "file_extension": ".py",
   "mimetype": "text/x-python",
   "name": "python",
   "nbconvert_exporter": "python",
   "pygments_lexer": "ipython3",
   "version": "3.7.2"
  }
 },
 "nbformat": 4,
 "nbformat_minor": 2
}
