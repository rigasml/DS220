{
 "cells": [
  {
   "cell_type": "markdown",
   "metadata": {},
   "source": [
    "# Intro to Jupyter Notebook and Other Useful Techniques!"
   ]
  },
  {
   "cell_type": "markdown",
   "metadata": {},
   "source": [
    "Jupyter Notebook is a very useful tool to write organized Python code. Instead of writing all of your code in one long script, Jupyter Notebook allows you to organize your code in chunks called cells. This text cell (and the heading) are made in a markdown cell - it can be used to write notes about your code or hold long non-code blocks of text! Some people even write entire reports or presentations in Jupyter Notebook. This is great if you want to include a lot of code or run code during a presentation. Using the dropdown menu between the refresh and keyboard buttons, change the next cell to markdown, type something, and press the \"run\" button above to run it!"
   ]
  },
  {
   "cell_type": "code",
   "execution_count": null,
   "metadata": {},
   "outputs": [],
   "source": []
  },
  {
   "cell_type": "markdown",
   "metadata": {},
   "source": [
    "Hover over the white buttons starting with the save icon to learn what each one does!"
   ]
  },
  {
   "cell_type": "markdown",
   "metadata": {},
   "source": [
    "Keyboard Shortcuts\n",
    "- ctrl + enter: run a cell\n",
    "- when the cell has a BLUE box around it (clicking by the 'In []:' part of the page), press a to add a cell above it and b to add a cell below it"
   ]
  },
  {
   "cell_type": "markdown",
   "metadata": {},
   "source": [
    "# Pandas and Regular Expressions!"
   ]
  },
  {
   "cell_type": "markdown",
   "metadata": {},
   "source": [
    "Pandas is a very useful data analytics library and will be useful to know in your data science/analytics classes and careers. This tutorial will teach you how to load a dataset into a data frame and make use of regular expressions. To learn more about regular expressions see this link: https://docs.python.org/3/library/re.html"
   ]
  },
  {
   "cell_type": "code",
   "execution_count": null,
   "metadata": {},
   "outputs": [],
   "source": [
    "#import libraries\n",
    "import pandas as pd\n",
    "import re"
   ]
  },
  {
   "cell_type": "markdown",
   "metadata": {},
   "source": [
    "We are going to look at customer data from a fictional company. Start by reading the dataset chinook_customers.csv into a dataframe called customers in the cell below. Run the cell once you're done to see the data.\n",
    "- pd.read_csv('insert file name here')"
   ]
  },
  {
   "cell_type": "code",
   "execution_count": null,
   "metadata": {},
   "outputs": [],
   "source": [
    "customers = pd.read_csv('chinook_customers.csv')\n",
    "customers"
   ]
  },
  {
   "cell_type": "markdown",
   "metadata": {},
   "source": [
    "Now, there are a lot of things you can do with pandas now that this data is loaded. Pandas is the foundation for a lot of the data cleaning and machine learning programming tasks in the data science world. For the purpose of this exercise, we are going to use regular expressions to validate email format and phone numbers!"
   ]
  },
  {
   "cell_type": "markdown",
   "metadata": {},
   "source": [
    "# Regular Expressions: Emails"
   ]
  },
  {
   "cell_type": "markdown",
   "metadata": {},
   "source": [
    "- The goal: make sure the emails are all in a standard format of \"text/numbers@text/numbers.text\"\n",
    "- Step 1 (completed for you, run the cell): create a true/false email format column - this column will say True if the email format is valid or False if it's not\n",
    "- Step 2: write the regular expression and populate the valid email column\n",
    "- Step 3 (completed for you, run the cell): return the rows where the true/false column is false - you should see 4 invalid emails!\n"
   ]
  },
  {
   "cell_type": "code",
   "execution_count": null,
   "metadata": {},
   "outputs": [],
   "source": [
    "#Step 1 - inserting a NA column called ValidEmail next to the email column\n",
    "import numpy as np\n",
    "customers.insert(loc=12, column='ValidEmail', value=np.nan)"
   ]
  },
  {
   "cell_type": "code",
   "execution_count": null,
   "metadata": {
    "scrolled": true
   },
   "outputs": [],
   "source": [
    "#Step 2 - regular expression to detect emails\n",
    "regex = re.compile(r\"insert regex here\") #\\w\\S*@.*\\w\\S\\.\\w\\S\n",
    "customers['ValidEmail'] = customers['Email'].apply(lambda x: 'True' if regex.match(x) else 'False')\n",
    "customers"
   ]
  },
  {
   "cell_type": "code",
   "execution_count": null,
   "metadata": {},
   "outputs": [],
   "source": [
    "#Step 3 - return invalid email rows!\n",
    "customers[customers['ValidEmail'] == 'False']"
   ]
  },
  {
   "cell_type": "markdown",
   "metadata": {},
   "source": [
    "# Regular Expressions: Phone Numbers"
   ]
  },
  {
   "cell_type": "markdown",
   "metadata": {},
   "source": [
    "Often when we are working with data, we want to search for a particular pattern in the data, for example phone numbers and email addresses follow common patterns. This task of searching and extracting is so common that Python has a very powerful library called regular expressions that handles many of these tasks quite elegantly. The syntax is a little odd, but once you get used to it, you will see how powerful they are and how easy they can make your data managing life. \n",
    "\n",
    "Entire books have been written on the topic of regular expressions. For more detail on regular expressions, see:\n",
    "https://docs.python.org/library/re.html\n",
    "\n",
    "Since the phone numbers in this data vary, instead you will write regular expressions to detect the 3 phone number formats provided in the string below."
   ]
  },
  {
   "cell_type": "code",
   "execution_count": null,
   "metadata": {},
   "outputs": [],
   "source": [
    "#RUN ME!\n",
    "phonenumbers = '1234567890, 123-456-7890, (123) 456-7890'"
   ]
  },
  {
   "cell_type": "code",
   "execution_count": null,
   "metadata": {},
   "outputs": [],
   "source": [
    "#Find the first phone number pattern\n",
    "pattern1 = re.findall(r\"insert regular expression here\", phonenumbers) \n",
    "for number in pattern1:\n",
    "    print(number)"
   ]
  },
  {
   "cell_type": "code",
   "execution_count": null,
   "metadata": {},
   "outputs": [],
   "source": [
    "#Find the second phone number pattern\n",
    "pattern2 = re.findall(r\"insert regular expression here\", phonenumbers) \n",
    "for number in pattern2:\n",
    "    print(number)"
   ]
  },
  {
   "cell_type": "code",
   "execution_count": null,
   "metadata": {},
   "outputs": [],
   "source": [
    "#See if you can complete the third phone number pattern\n",
    "pattern3 = re.findall(r\"\\(\\d{3}\\)\\s\\d{3}-\", phonenumbers) \n",
    "for number in pattern3:\n",
    "    print(number)"
   ]
  },
  {
   "cell_type": "code",
   "execution_count": null,
   "metadata": {},
   "outputs": [],
   "source": []
  }
 ],
 "metadata": {
  "kernelspec": {
   "display_name": "Python 3",
   "language": "python",
   "name": "python3"
  },
  "language_info": {
   "codemirror_mode": {
    "name": "ipython",
    "version": 3
   },
   "file_extension": ".py",
   "mimetype": "text/x-python",
   "name": "python",
   "nbconvert_exporter": "python",
   "pygments_lexer": "ipython3",
   "version": "3.7.2"
  }
 },
 "nbformat": 4,
 "nbformat_minor": 2
}
