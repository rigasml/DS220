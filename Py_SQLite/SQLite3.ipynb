{
  "cells": [
    {
      "metadata": {},
      "cell_type": "markdown",
      "source": "# SQLite Exercise"
    },
    {
      "metadata": {},
      "cell_type": "markdown",
      "source": "SQLite is a simple way to implement SQL in Python.\nIt can work off of a database file (.db) that already has tables in it or an empty one.\nYou can also insert tables into a .db file.\nWe are going to to both!"
    },
    {
      "metadata": {},
      "cell_type": "markdown",
      "source": "# Libraries"
    },
    {
      "metadata": {},
      "cell_type": "markdown",
      "source": "Two very important libraries we will need are pandas, and extremely popular data analysis library, and of course SQLite3."
    },
    {
      "metadata": {
        "trusted": true
      },
      "cell_type": "code",
      "source": "import sqlite3\nimport pandas as pd",
      "execution_count": 1,
      "outputs": []
    },
    {
      "metadata": {},
      "cell_type": "markdown",
      "source": "# Connecting to a Database File"
    },
    {
      "metadata": {},
      "cell_type": "markdown",
      "source": "- Need to establish a connection: conn = sqlite3.connect('insert database file name here')\n- Need to establish a cursor object to execute queries: c = conn.cursor()\n- To execute queries: c.execute('insert SQL statement here')"
    },
    {
      "metadata": {},
      "cell_type": "markdown",
      "source": "## Let's Explore Chinook!"
    },
    {
      "metadata": {},
      "cell_type": "markdown",
      "source": "To see the database diagram follow this link: http://www.sqlitetutorial.net/wp-content/uploads/2018/03/sqlite-sample-database-diagram-color.pdf"
    },
    {
      "metadata": {
        "trusted": false
      },
      "cell_type": "code",
      "source": "conn = sqlite3.connect('chinook.db') #Note: this file should be located in the same folder you are running this notebook from!\nc = conn.cursor()",
      "execution_count": null,
      "outputs": []
    },
    {
      "metadata": {
        "collapsed": true
      },
      "cell_type": "markdown",
      "source": "To display query results, we can use a simple for loop. Run the next cell to see how to display the information in the playlists table."
    },
    {
      "metadata": {
        "trusted": false
      },
      "cell_type": "code",
      "source": "for row in c.execute('SELECT * FROM playlists'):\n    print(row)",
      "execution_count": null,
      "outputs": []
    },
    {
      "metadata": {},
      "cell_type": "markdown",
      "source": "Now, use the next cell to write a query that displays all of the customers from the customers table"
    },
    {
      "metadata": {
        "trusted": false
      },
      "cell_type": "code",
      "source": "",
      "execution_count": null,
      "outputs": []
    },
    {
      "metadata": {},
      "cell_type": "markdown",
      "source": "As we can see, the output isn't that pretty. We can use the pandas library to create a dataframe from our query results!\n- pd.read_sql_query(query, conn): where query is the query you want to run and connection is the connection to the database you have established"
    },
    {
      "metadata": {},
      "cell_type": "markdown",
      "source": "In the cell below, create a dataframe that holds all of Chinook's Canadian customers, by completing the query that is started:"
    },
    {
      "metadata": {
        "trusted": false
      },
      "cell_type": "code",
      "source": "canadians = pd.read_sql_query(\"SELECT     \", conn)\ncanadians",
      "execution_count": null,
      "outputs": []
    },
    {
      "metadata": {},
      "cell_type": "markdown",
      "source": "Create a dataframe that holds the number of invoices per country in descending order"
    },
    {
      "metadata": {
        "trusted": false
      },
      "cell_type": "code",
      "source": "invoicePerCountry = \ninvoicePerCountry",
      "execution_count": null,
      "outputs": []
    },
    {
      "metadata": {},
      "cell_type": "markdown",
      "source": "For each record in the Album table, we want the Title along with the Name of the Artist. This will require an inner join!"
    },
    {
      "metadata": {
        "trusted": false
      },
      "cell_type": "code",
      "source": "records = \nrecords",
      "execution_count": null,
      "outputs": []
    },
    {
      "metadata": {},
      "cell_type": "markdown",
      "source": "## Create Our Own Table"
    },
    {
      "metadata": {},
      "cell_type": "markdown",
      "source": "Within the chinook database we want to create a table that holds each Employee ID and their total sales amount from the invoices they are associated with.\n- Step 1: Write a query to sum the total sales per employee ID\n- Step 2: Create a table called sales in the chinook database that holds two columns: the employee ID and the sale amount\n- Step 3: To see if your insert was successful, join the employee ID columns of the employee table and your table to see their names\n\nComplete the queries below to run this exercise. In many cases, if a query is partially formed, you must complete it where you see the three dots (...)"
    },
    {
      "metadata": {
        "trusted": false
      },
      "cell_type": "code",
      "source": "#Step 1 - run this, but make sure you understand how it works\nquery = \"SELECT c.SupportRepID, sum(total) dollars_spent FROM invoices i INNER JOIN Customers c ON c.customerID = i.CustomerID GROUP BY SupportRepID\"\ndf = pd.read_sql_query(query, conn)\ndf",
      "execution_count": null,
      "outputs": []
    },
    {
      "metadata": {
        "trusted": false
      },
      "cell_type": "code",
      "source": "#Quick Visualization -- Run Me!!\nimport matplotlib.pyplot as plt\nimport numpy as np\n\nlabels = df.SupportRepId.values\nsizes = df.dollars_spent.values\nexplode = (.2, 0, 0)\n\nfig1, ax1 = plt.subplots()\nax1.pie(sizes, labels=labels, explode = explode, autopct='%1.1f%%', shadow = True)\nax1.axis('equal')\n\nplt.show()",
      "execution_count": null,
      "outputs": []
    },
    {
      "metadata": {
        "trusted": false
      },
      "cell_type": "code",
      "source": "#Step 2\n\n#Create Table\nc.execute(\"CREATE TABLE sales ('employeeID' INT NOT NULL, 'total' DECIMAL NOT NULL)\")\n\n#Insert into Table - from your df above choose several values\nc.execute(\"INSERT INTO sales VALUES (3, 833.04)\")\nc.execute(\"INSERT INTO sales VALUES (4,)\")\nc.execute(\"INSERT INTO sales VALUES ... )\n\n",
      "execution_count": null,
      "outputs": []
    },
    {
      "metadata": {
        "trusted": false
      },
      "cell_type": "code",
      "source": "#Step 3\nfor row in c.execute('select ... '):\nprint(row)\n",
      "execution_count": null,
      "outputs": []
    },
    {
      "metadata": {},
      "cell_type": "markdown",
      "source": "After we are done we have to close the database to make sure it saves everything in our file:"
    },
    {
      "metadata": {
        "trusted": false
      },
      "cell_type": "code",
      "source": "c.close()",
      "execution_count": null,
      "outputs": []
    }
  ],
  "metadata": {
    "kernelspec": {
      "name": "python3",
      "display_name": "Python 3",
      "language": "python"
    },
    "language_info": {
      "mimetype": "text/x-python",
      "nbconvert_exporter": "python",
      "name": "python",
      "file_extension": ".py",
      "version": "3.5.4",
      "pygments_lexer": "ipython3",
      "codemirror_mode": {
        "version": 3,
        "name": "ipython"
      }
    }
  },
  "nbformat": 4,
  "nbformat_minor": 2
}